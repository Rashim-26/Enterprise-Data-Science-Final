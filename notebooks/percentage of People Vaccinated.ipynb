{
 "cells": [
  {
   "cell_type": "code",
   "execution_count": 1,
   "id": "8b8fb91c",
   "metadata": {},
   "outputs": [],
   "source": [
    "import pandas as pd\n",
    "import numpy as np\n",
    "from datetime import datetime\n",
    "import matplotlib as mpl\n",
    "import matplotlib.pyplot as plt\n",
    "import plotly.graph_objects as go"
   ]
  },
  {
   "cell_type": "code",
   "execution_count": 3,
   "id": "936b9ffd",
   "metadata": {},
   "outputs": [],
   "source": [
    "data_path='C:\\\\Users\\\\ASUS\\\\enterprise_datascience_covid\\\\data\\\\raw\\COVID-19-master_Vaccination data\\\\data_tables\\\\vaccine_data\\\\global_data\\\\time_series_covid19_vaccine_global.csv'\n",
    "pd_raw=pd.read_csv(data_path)\n",
    "pd.set_option('display.max_column',900)"
   ]
  },
  {
   "cell_type": "code",
   "execution_count": null,
   "id": "7ece78af",
   "metadata": {},
   "outputs": [],
   "source": [
    "pd"
   ]
  }
 ],
 "metadata": {
  "kernelspec": {
   "display_name": "Python 3 (ipykernel)",
   "language": "python",
   "name": "python3"
  },
  "language_info": {
   "codemirror_mode": {
    "name": "ipython",
    "version": 3
   },
   "file_extension": ".py",
   "mimetype": "text/x-python",
   "name": "python",
   "nbconvert_exporter": "python",
   "pygments_lexer": "ipython3",
   "version": "3.9.7"
  }
 },
 "nbformat": 4,
 "nbformat_minor": 5
}
